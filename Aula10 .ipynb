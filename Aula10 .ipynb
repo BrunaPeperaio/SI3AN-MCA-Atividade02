{
 "cells": [
  {
   "cell_type": "markdown",
   "metadata": {},
   "source": [
    "Aula 10 Exercicio 4"
   ]
  },
  {
   "cell_type": "markdown",
   "metadata": {},
   "source": [
    "1- Menor de dois pares: Escreva uma função que retorne o menor de dois números dados se ambos os números forem pares, mas retorna o maior se um dos dois for ímpar."
   ]
  },
  {
   "cell_type": "code",
   "execution_count": 5,
   "metadata": {},
   "outputs": [
    {
     "name": "stdout",
     "output_type": "stream",
     "text": [
      "2\n",
      "5\n"
     ]
    }
   ],
   "source": [
    "def menor_de_dois(n1,n2):\n",
    "    if n1%2==0 and n2%2==0:\n",
    "        if n2 > n1:\n",
    "            print(n1)\n",
    "        else:\n",
    "            print(n2)\n",
    "    else:\n",
    "        if n1 > n2:\n",
    "            print(n1)\n",
    "        else:\n",
    "            print(n2)\n",
    "\n",
    "menor_de_dois(2,4)\n",
    "menor_de_dois(2,5)"
   ]
  },
  {
   "cell_type": "markdown",
   "metadata": {},
   "source": [
    "2- Mesma letra: Escreva uma função que receba uma string com duas palavras e retorne True se ambas palavras começarem com a mesma letra. "
   ]
  },
  {
   "cell_type": "code",
   "execution_count": 6,
   "metadata": {},
   "outputs": [
    {
     "name": "stdout",
     "output_type": "stream",
     "text": [
      "True\n",
      "False\n"
     ]
    }
   ],
   "source": [
    "def mesma_letra(s1):\n",
    "    i = 0\n",
    "    for letra in s1:\n",
    "        if letra ==\"C\" or letra == \" C\":\n",
    "            m1 = \"True\"\n",
    "            i += 1\n",
    "        else:\n",
    "            m2 = \"False\"\n",
    "    else:\n",
    "        if i == 2:\n",
    "            print(m1)\n",
    "        else:\n",
    "            print(m2)\n",
    "\n",
    "mesma_letra(\"Cão Covarde\")\n",
    "mesma_letra(\"Vira Lata\")"
   ]
  },
  {
   "cell_type": "markdown",
   "metadata": {},
   "source": [
    "3- Mestre Yoda: Dada uma sentença, a função deve retornar a sentença com as palavras na ordem reversa. "
   ]
  },
  {
   "cell_type": "code",
   "execution_count": 7,
   "metadata": {},
   "outputs": [
    {
     "name": "stdout",
     "output_type": "stream",
     "text": [
      "radutse somaV\n",
      "odnagehc oatse savorp sa\n"
     ]
    }
   ],
   "source": [
    "def sentenca(s):\n",
    "    return print(s[::-1])\n",
    "\n",
    "sentenca(\"Vamos estudar\")\n",
    "sentenca(\"as provas estao chegando\")"
   ]
  },
  {
   "cell_type": "markdown",
   "metadata": {},
   "source": [
    "4- Tem 33: Faça uma função que retorne True se, dada uma lista de inteiros, houver em alguma posição da lista um 3 do lado de outro 3."
   ]
  },
  {
   "cell_type": "code",
   "execution_count": 9,
   "metadata": {},
   "outputs": [
    {
     "name": "stdout",
     "output_type": "stream",
     "text": [
      "True\n",
      "False\n"
     ]
    }
   ],
   "source": [
    "def lista_inteiro(l=[]):\n",
    "    i = 0\n",
    "    atual = 1\n",
    "    prox = 0\n",
    "    for lista in l:\n",
    "        if lista == 3:\n",
    "            atual = lista\n",
    "        else:\n",
    "            prox = lista\n",
    "        \n",
    "        if atual == prox:\n",
    "            i += 1\n",
    "    else:\n",
    "        if i >= 1:\n",
    "            print(\"True\")\n",
    "        else:\n",
    "            print(\"False\")\n",
    "            \n",
    "lista_inteiro([1,3,3])\n",
    "lista_inteiro([2,3,3])"
   ]
  },
  {
   "cell_type": "markdown",
   "metadata": {},
   "source": [
    "5- Blackjack: Faça uma função que receba 3 inteiros entre 1 e 11. Se a soma deles for menor que 21, retorne o valor da soma. Se for mair do que 21 e houver um 11, subtraia 10 da soma antes de apresentar o resultado. Se o valor da soma passar de 21, retorne ‘ESTOUROU’. "
   ]
  },
  {
   "cell_type": "code",
   "execution_count": 25,
   "metadata": {},
   "outputs": [
    {
     "name": "stdout",
     "output_type": "stream",
     "text": [
      "6\n",
      "Estourou\n",
      "11\n"
     ]
    }
   ],
   "source": [
    "def blackjack(n1,n2,n3):\n",
    "    soma = n1+n2+n3\n",
    "    if soma < 21:\n",
    "        print(soma)\n",
    "    elif soma > 21 and n1 == 11 or n2 == 11 or n3 == 11:\n",
    "        novo = soma - 11\n",
    "        print(novo)\n",
    "    else:\n",
    "        print('Estourou')\n",
    "        \n",
    "blackjack(1,2,3)\n",
    "blackjack(9,8,9)\n",
    "blackjack(1,9,1)"
   ]
  },
  {
   "cell_type": "markdown",
   "metadata": {},
   "source": [
    "6- Espião: Escreva uma função que receba uma lista de inteiros e retorne True se contém um 007 em ordem, mesmo que não contínuo."
   ]
  },
  {
   "cell_type": "code",
   "execution_count": 29,
   "metadata": {},
   "outputs": [
    {
     "name": "stdout",
     "output_type": "stream",
     "text": [
      "True\n",
      "False\n"
     ]
    }
   ],
   "source": [
    "def espiao(bonde = []):\n",
    "    x = \"\"\n",
    "    for james in bonde:\n",
    "        if james == 0 or james == 7:\n",
    "            x += str(james)\n",
    "    else:\n",
    "        if x == \"007\":\n",
    "            print(\"True\")\n",
    "        else:\n",
    "            print(\"False\")\n",
    "        \n",
    "espiao([1,2,4,0,0,7,5])\n",
    "espiao([1,7,2,4,0,5,0])"
   ]
  },
  {
   "cell_type": "markdown",
   "metadata": {},
   "source": [
    "Aula 10 Exercicio 5"
   ]
  },
  {
   "cell_type": "markdown",
   "metadata": {},
   "source": [
    "1- Linha: Crie a classe Linha que tem dois atributos, coordenada1 e coordenada2.\n",
    "Cada coordenada é uma tupla que carrega duas coordenadas cartesianas (x,y) que\n",
    "denotam pontos do segmento de reta. Faça métodos que calculem o comprimento\n",
    "do segmento de reta e sua inclinação."
   ]
  },
  {
   "cell_type": "code",
   "execution_count": 16,
   "metadata": {},
   "outputs": [
    {
     "name": "stdout",
     "output_type": "stream",
     "text": [
      "O resultado é:  400\n"
     ]
    }
   ],
   "source": [
    "class Linha:\n",
    "    def _init_(self,coordenada1=1,coordenada2=1):\n",
    "        self.coordenada1 = coordenada1\n",
    "        self.coordenada2 = coordenada2\n",
    "     \n",
    "    def calculo(self,coordenada1,coordenada2):\n",
    "        return (coordenada1**2 + coordenada2**2)**2\n",
    "    \n",
    "l = Linha()\n",
    "print(\"O resultado é: \", l.calculo(2,4))"
   ]
  },
  {
   "cell_type": "markdown",
   "metadata": {},
   "source": [
    "2- Figuras: Crie a seguinte hierarquia de classes de figuras geométricas. Veja na figura\n",
    "as fórmulas:\n",
    "a. A classe abstrata Figura deve ter o método abstrato area.\n",
    "b. A classe concreta Circulo é subclasse de Figura.\n",
    "c. A classe abstrata Poligono é subclasse de Figura e deve ter os atributos base e\n",
    "altura .\n",
    "d. As classes concretas Triangulo, Losango, Retangulo e Quadrado são subclasses\n",
    "de Poligono. Tente criar mais uma generalização aqui olhando as fórmulas da área.\n",
    "e. Os polígonos Retangulo e Quadrado devem implementar a interface Diagonal,\n",
    "que deve ter um método que calcula a diagonal.\n",
    "f. Crie uma classe Geometria com uma lista de Figuras com pelo menos uma\n",
    "figura de cada e imprima suas áreas, perímetros e diagonais.\n"
   ]
  },
  {
   "cell_type": "code",
   "execution_count": 30,
   "metadata": {},
   "outputs": [
    {
     "name": "stdout",
     "output_type": "stream",
     "text": [
      "6.28\n",
      "0.5\n"
     ]
    }
   ],
   "source": [
    "class Figuras:\n",
    "    def area(self):\n",
    "        pass\n",
    "    \n",
    "class Circulo(Figuras):\n",
    "    raio = 1\n",
    "    def _init_(self, raio):\n",
    "        self.raio = raio\n",
    "    \n",
    "    def area(self,raio):\n",
    "        return self.raio * 3.14 * 2\n",
    "    \n",
    "class Poligono(Figuras):\n",
    "    x = 1\n",
    "    y = 1\n",
    "    def _init_(self,y,x):\n",
    "        self.y = y\n",
    "        self.x = x\n",
    "        \n",
    "    def area(self,x,y):\n",
    "        return self.x * self.y / 2    \n",
    "        \n",
    "c = Circulo()\n",
    "p = Poligono()\n",
    "\n",
    "print(c.area(4))\n",
    "print(p.area(2,1))"
   ]
  },
  {
   "cell_type": "markdown",
   "metadata": {},
   "source": [
    "\n",
    "3- Jogo de Blacjack: Faça um joguinho simples em Python.\n",
    "Aqui estão os requisitos:\n",
    "- Você precisa criar um jogo de BlackJack (21) baseado em texto simples\n",
    "- O jogo precisa ter um jogador contra um croupier automatizado.\n",
    "- O jogador pode desistir ou bater.\n",
    "- O jogador deve ser capaz de escolher o seu valor de aposta.\n",
    "- Você precisa acompanhar o dinheiro total do jogador.\n",
    "- Você precisa alertar o jogador de vitórias, derrotas ou estouros, etc ."
   ]
  },
  {
   "cell_type": "code",
   "execution_count": 31,
   "metadata": {},
   "outputs": [
    {
     "name": "stdout",
     "output_type": "stream",
     "text": [
      "Bem Vindo ao BlackJack em Python!! \n",
      "\n",
      "Quantos jogadores participarão da partida? \n",
      "2\n",
      "O jogo funciona por turnos, cada jogador terá sua vez e decidirá o que fazer...\n",
      "\n",
      "Você tem que fazer 21 pontos para ganhar, porém sem estourar esse limite, podendo parar após cada jogada.\n",
      "\n",
      "Deseja fazer a jogada?[S/N] \n",
      "s\n",
      "Você tirou 3 e até agora marcou 0 pontos.\n",
      "\n",
      "Deseja fazer a jogada?[S/N] \n",
      "n\n",
      "Você tem que fazer 21 pontos para ganhar, porém sem estourar esse limite, podendo parar após cada jogada.\n",
      "\n",
      "Cuidado, pois o jogador 1 marcou 3 pontos\n",
      "Deseja fazer a jogada?[S/N] \n",
      "s\n",
      "Você tirou 3 e até agora marcou 3 pontos.\n",
      "\n",
      "Deseja fazer a jogada?[S/N] \n",
      "s\n",
      "Você tirou 9 e até agora marcou 12 pontos.\n",
      "\n",
      "Deseja fazer a jogada?[S/N] \n",
      "n\n",
      "O jogador 1 terminou com 3 pontos e o jogador 2 com 3 pontos, portanto...\n",
      "O jogador 1 vence por estar mais perto de 21.\n",
      "\n"
     ]
    }
   ],
   "source": [
    "import os                           \n",
    "import random                       \n",
    "import time                         \n",
    "\n",
    "opjogo = 0\n",
    "jogada = 0\n",
    "totalj = 0\n",
    "totalc = 0\n",
    "\n",
    "total1 = 0\n",
    "total2 = 0\n",
    "print(\"Bem Vindo ao BlackJack em Python!! \\n\")\n",
    "opjogo =input(\"Quantos jogadores participarão da partida? \\n\")\n",
    "if opjogo == '1':\n",
    "\n",
    "    opjogo='S';\n",
    "    os.system('clear')\n",
    "    print(\"Você tem que fazer 21 pontos para ganhar, porém sem estourar esse limite, podendo parar após cada jogada.\\n\");\n",
    "    print\n",
    "    totalj=0\n",
    "    while opjogo=='s' or opjogo=='S':  \n",
    "        opjogo = input(\"Deseja fazer a jogada?[S/N] \\n\")\n",
    "        if opjogo=='n' or opjogo=='N':\n",
    "            break\n",
    "        jogada= random.randint(1,10) \n",
    "        totalj=(totalj+jogada)\n",
    "        if totalj >= 21:\n",
    "            break\n",
    "        print\n",
    "        print(\"Você tirou {0} e até agora marcou {1} pontos.\\n\".format(jogada,totalj))\n",
    "        print\n",
    "\n",
    "    print(\"Você marcou {0} pontos, vamos ver o computador...\\n\".format(totalj))\n",
    "    \n",
    "    print(\"Agora é minha vez de jogar. Vejo que você fez {0} pontos...\\n\".format(totalj))\n",
    "    totalc=0\n",
    "    while (totalc < 21):\n",
    "        jogada= random.randint(1,10) \n",
    "        totalc=(totalc+jogada)\n",
    "        if totalj > 21:\n",
    "                break\n",
    "        print(\"Tirei {0} pontos e pretendo continuar jogando, pois ainda estou com {1}.\\n\".format(jogada,totalc))\n",
    "        time.sleep(1.2)\n",
    "\n",
    "    print\n",
    "\n",
    "    print(\"O jogador terminou com {0} pontos e o computador com {1} pontos, portanto...\".format(totalj,totalc))\n",
    "    if totalj == 21:\n",
    "        print(\"O jogador ganhou, fazendo os gloriosos 21 pontos =D...\\n\")\n",
    "    elif totalc == 21:\n",
    "        print(\"O computador ganhou, fazendo os gloriosos 21 pontos =D...\\n\")\n",
    "    elif totalc > 21 and totalj <= 21:\n",
    "        print(\"O computador tem um número maior de pontos do que é permitido...O jogador vence.\\n\")\n",
    "    elif totalj > 21 and totalc <= 21:\n",
    "        print(\"O jogador tem um número maior de pontos do que é permitido...O computador vence.\\n\")\n",
    "    elif 21 - totalc > 21 - totalj:\n",
    "        print(\"O computador vence por estar mais perto de 21.\\n\")\n",
    "    elif 21 - totalc < 21 - totalj:\n",
    "        print(\"O jogador vence por estar mais perto de 21.\\n\")\n",
    "        print\n",
    "\n",
    "if opjogo=='2':\n",
    "    print(\"O jogo funciona por turnos, cada jogador terá sua vez e decidirá o que fazer...\\n\")\n",
    "\n",
    "    opjogo='S'\n",
    "    os.system('clear')\n",
    "    print(\"Você tem que fazer 21 pontos para ganhar, porém sem estourar esse limite, podendo parar após cada jogada.\\n\")\n",
    "    print\n",
    "    totalj=0\n",
    "    while opjogo=='s' or opjogo=='S':        \n",
    "        opjogo = input(\"Deseja fazer a jogada?[S/N] \\n\")\n",
    "        if opjogo=='n' or opjogo=='N':\n",
    "            break\n",
    "        jogada= random.randint(1,10) \n",
    "        total1=(total1+jogada)\n",
    "        if totalj >= 21:\n",
    "            break\n",
    "        print\n",
    "        print(\"Você tirou {0} e até agora marcou {1} pontos.\\n\".format(jogada,totalj))\n",
    "        print\n",
    "\n",
    "    opjogo='S'\n",
    "    os.system('clear')\n",
    "    print(\"Você tem que fazer 21 pontos para ganhar, porém sem estourar esse limite, podendo parar após cada jogada.\\n\")\n",
    "    print(\"Cuidado, pois o jogador 1 marcou {0} pontos\".format(total1))\n",
    "    print\n",
    "    totalj=0\n",
    "    while opjogo=='s' or opjogo=='S':   \n",
    "        opjogo = input(\"Deseja fazer a jogada?[S/N] \\n\")\n",
    "        if opjogo=='n' or opjogo=='N':\n",
    "            break\n",
    "        jogada= random.randint(1,10) \n",
    "        total2=(total2+jogada)\n",
    "        if total2 >= 21:\n",
    "            break\n",
    "        print\n",
    "        print(\"Você tirou {0} e até agora marcou {1} pontos.\\n\".format(jogada,total2))\n",
    "\n",
    "    print(\"O jogador 1 terminou com {0} pontos e o jogador 2 com {1} pontos, portanto...\".format(total1,total1))\n",
    "    if total1 == 21:\n",
    "        print(\"O jogador 1 ganhou, fazendo os gloriosos 21 pontos =D...\\n\")\n",
    "    elif total2 == 21:\n",
    "        print(\"O computador ganhou, fazendo os gloriosos 21 pontos =D...\\n\")\n",
    "    elif total2 > 21 and total1 <= 21:\n",
    "        print(\"O computador tem um número maior de pontos do que é permitido...O jogador vence.\\n\")\n",
    "    elif total1 > 21 and total2 <= 21:\n",
    "        print(\"O jogador tem um número maior de pontos do que é permitido...O computador vence.\\n\")\n",
    "    elif total1==total2:\n",
    "        print(\"Houve um empate...\")\n",
    "    elif 21 - total2 > 21 - total1:\n",
    "        print(\"O jogador 2 vence por estar mais perto de 21.\\n\")\n",
    "    else:\n",
    "        print(\"O jogador 1 vence por estar mais perto de 21.\\n\")\n",
    "        print\n",
    "\n",
    "else:\n",
    "    print(\"O máximo de jogadores permitidos é de 2 \\n\")"
   ]
  }
 ],
 "metadata": {
  "kernelspec": {
   "display_name": "Python 3",
   "language": "python",
   "name": "python3"
  },
  "language_info": {
   "codemirror_mode": {
    "name": "ipython",
    "version": 3
   },
   "file_extension": ".py",
   "mimetype": "text/x-python",
   "name": "python",
   "nbconvert_exporter": "python",
   "pygments_lexer": "ipython3",
   "version": "3.6.4"
  }
 },
 "nbformat": 4,
 "nbformat_minor": 2
}
